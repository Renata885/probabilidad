{
  "nbformat": 4,
  "nbformat_minor": 0,
  "metadata": {
    "colab": {
      "provenance": [],
      "authorship_tag": "ABX9TyMx5ZW1vCrwR1cvo24fAeKO",
      "include_colab_link": true
    },
    "kernelspec": {
      "name": "python3",
      "display_name": "Python 3"
    },
    "language_info": {
      "name": "python"
    }
  },
  "cells": [
    {
      "cell_type": "markdown",
      "metadata": {
        "id": "view-in-github",
        "colab_type": "text"
      },
      "source": [
        "<a href=\"https://colab.research.google.com/github/Renata885/probabilidad/blob/main/Unidad2/Programa_3.ipynb\" target=\"_parent\"><img src=\"https://colab.research.google.com/assets/colab-badge.svg\" alt=\"Open In Colab\"/></a>"
      ]
    },
    {
      "cell_type": "markdown",
      "source": [
        "**Probabilidad y estadistica**\n",
        "\n",
        "**Grupo 2 Y**\n",
        "\n",
        "**Unidad 2**\n",
        "\n",
        "**Programa 3 Ejercicio de Permutaciones**\n",
        "\n",
        "Docente:Jose Gabriel Rodriquez Rivas\n",
        "\n",
        "Alumna: Karla Renata Ortega Miranda"
      ],
      "metadata": {
        "id": "l-TlNK1u4UfL"
      }
    },
    {
      "cell_type": "code",
      "execution_count": null,
      "metadata": {
        "id": "iFaZ_KK54ZHE"
      },
      "outputs": [],
      "source": [
        "import math\n",
        "n = 10\n",
        "r = 4"
      ]
    },
    {
      "cell_type": "code",
      "source": [
        "permutaciones = math.factorial(n) // math.factorial(n - r)"
      ],
      "metadata": {
        "id": "2rvN1EMPOxLV"
      },
      "execution_count": null,
      "outputs": []
    },
    {
      "cell_type": "code",
      "source": [
        "print(\"Número total de asistentes:\", n)\n",
        "print(\"Número de preguntas :\", r)\n",
        "print(\"Total de formas de asignar asistentes:\", permutaciones)"
      ],
      "metadata": {
        "colab": {
          "base_uri": "https://localhost:8080/"
        },
        "id": "qXFOsFRmO0s1",
        "outputId": "5d9f03ac-c7b0-4156-ba8a-9e1d166dbce7"
      },
      "execution_count": null,
      "outputs": [
        {
          "output_type": "stream",
          "name": "stdout",
          "text": [
            "Número total de asistentes: 10\n",
            "Número de preguntas : 4\n",
            "Total de formas de asignar asistentes: 5040\n"
          ]
        }
      ]
    }
  ]
}