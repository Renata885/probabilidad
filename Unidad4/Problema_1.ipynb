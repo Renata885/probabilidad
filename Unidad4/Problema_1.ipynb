{
  "nbformat": 4,
  "nbformat_minor": 0,
  "metadata": {
    "colab": {
      "provenance": [],
      "authorship_tag": "ABX9TyPrUlLm4Su/jJibM3XwljFo",
      "include_colab_link": true
    },
    "kernelspec": {
      "name": "python3",
      "display_name": "Python 3"
    },
    "language_info": {
      "name": "python"
    }
  },
  "cells": [
    {
      "cell_type": "markdown",
      "metadata": {
        "id": "view-in-github",
        "colab_type": "text"
      },
      "source": [
        "<a href=\"https://colab.research.google.com/github/Renata885/probabilidad/blob/main/Unidad4/Problema_1.ipynb\" target=\"_parent\"><img src=\"https://colab.research.google.com/assets/colab-badge.svg\" alt=\"Open In Colab\"/></a>"
      ]
    },
    {
      "cell_type": "markdown",
      "source": [
        "**Probabilidad y estadistica**\n",
        "\n",
        "**Grupo 2 Y**\n",
        "\n",
        "**Unidad 4**\n",
        "\n",
        "**Programa Problema 1**\n",
        "\n",
        "Docente:Jose Gabriel Rodriquez Rivas\n",
        "\n",
        "Alumna: Karla Renata Ortega Miranda"
      ],
      "metadata": {
        "id": "2KM0jS0JxW1n"
      }
    },
    {
      "cell_type": "code",
      "source": [
        "#programa en payton que resuelva lo siguiente: el número de X personas ingresadas a una unidad de cuidados intensivos en un hospital particular, en un día, tiene una distribución de probabilidad de Poisson con media igual a cinco personas por día\n",
        "#a) cuál es la probabilidad de que el número de personas ingresadas a una unidad de cuidados intensivos en un hospital particular, en un día particular,sea 2?\n",
        "#B) Es probable que x exceda de 10 ,explicar"
      ],
      "metadata": {
        "id": "DFLHR-5V7DaD"
      },
      "execution_count": null,
      "outputs": []
    },
    {
      "cell_type": "markdown",
      "source": [
        "El problema es de tipo Poisson porque:\n",
        "\n",
        "Representa el número de ocurrencias (personas ingresadas) en un intervalo de tiempo fijo (un día).\n",
        "\n",
        "Y porque ocurren de manera independiente, es decir no afecta a las otras."
      ],
      "metadata": {
        "id": "RFNBm_O_zLV5"
      }
    },
    {
      "cell_type": "code",
      "metadata": {
        "colab": {
          "base_uri": "https://localhost:8080/"
        },
        "id": "ca444b3a",
        "outputId": "09727ac5-9833-4385-ca68-34d9b15931a2"
      },
      "source": [
        "import scipy.stats as stats\n",
        "\n",
        "# Media de la distribución de Poisson\n",
        "media = 5\n",
        "\n",
        "# Probabilidad de que el número de personas ingresadas sea 2\n",
        "prob_2 = stats.poisson.pmf(2, media)\n",
        "print(\"a)La probabilidad de que el número de personas ingresadas sea 2 es:\", prob_2)"
      ],
      "execution_count": null,
      "outputs": [
        {
          "output_type": "stream",
          "name": "stdout",
          "text": [
            "a)La probabilidad de que el número de personas ingresadas sea 2 es: 0.08422433748856832\n"
          ]
        }
      ]
    },
    {
      "cell_type": "code",
      "metadata": {
        "colab": {
          "base_uri": "https://localhost:8080/"
        },
        "id": "05cce192",
        "outputId": "4d561fba-a3b3-483d-aeda-815877d59fe0"
      },
      "source": [
        "# Probabilidad de que X exceda de 10 ( X > 10)\n",
        "prob_hasta_10 = stats.poisson.cdf(10, media)\n",
        "prob_excede_10 = 1 - prob_hasta_10\n",
        "\n",
        "print(\"La probabilidad de que X exceda de 10 es:\",prob_excede_10)\n",
        "\n",
        "# Explicación\n",
        "if prob_excede_10 < 0.05:\n",
        "    print(\"Es poco probable que X exceda de 10, ya que la probabilidad es baja.\")\n",
        "else:\n",
        "    print(\"Es probable que X exceda de 10, ya que la probabilidad es mayor.\")"
      ],
      "execution_count": null,
      "outputs": [
        {
          "output_type": "stream",
          "name": "stdout",
          "text": [
            "La probabilidad de que X exceda de 10 es: 0.013695268598382881\n",
            "Es poco probable que X exceda de 10, ya que la probabilidad es baja.\n"
          ]
        }
      ]
    },
    {
      "cell_type": "markdown",
      "source": [
        "No es muy probable que el número de ingresos exceda de 10, porque el promedio diario es de 5 personas, y según la distribución de Poisson, la probabilidad de que ocurran es de 0.013 es decir 1.13%, muy bajo. Asi que es nulo"
      ],
      "metadata": {
        "id": "5PHs3sR41JnS"
      }
    }
  ]
}