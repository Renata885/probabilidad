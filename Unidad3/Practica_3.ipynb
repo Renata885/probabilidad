{
  "nbformat": 4,
  "nbformat_minor": 0,
  "metadata": {
    "colab": {
      "provenance": [],
      "authorship_tag": "ABX9TyMQ26o3x3Y6yjRCa6HGwhSE",
      "include_colab_link": true
    },
    "kernelspec": {
      "name": "python3",
      "display_name": "Python 3"
    },
    "language_info": {
      "name": "python"
    }
  },
  "cells": [
    {
      "cell_type": "markdown",
      "metadata": {
        "id": "view-in-github",
        "colab_type": "text"
      },
      "source": [
        "<a href=\"https://colab.research.google.com/github/Renata885/probabilidad/blob/main/Unidad3/Practica_3.ipynb\" target=\"_parent\"><img src=\"https://colab.research.google.com/assets/colab-badge.svg\" alt=\"Open In Colab\"/></a>"
      ]
    },
    {
      "cell_type": "markdown",
      "source": [
        "**Probabilidad y estadistica**\n",
        "\n",
        "**Grupo 2 Y**\n",
        "\n",
        "**Unidad 3**\n",
        "\n",
        "**Programa 3 Varianza y desviación estándar**\n",
        "\n",
        "Docente:Jose Gabriel Rodriquez Rivas\n",
        "\n",
        "Alumna: Karla Renata Ortega Miranda"
      ],
      "metadata": {
        "id": "V4A5-Gp-VrxF"
      }
    },
    {
      "cell_type": "code",
      "execution_count": null,
      "metadata": {
        "id": "iOnGZvXZPmuH"
      },
      "outputs": [],
      "source": [
        "import math\n",
        "x=[5,6,7,8,9,10]\n",
        "p=[0.05,0.10,0.20,0.30,0.25,0.10]"
      ]
    },
    {
      "cell_type": "code",
      "source": [
        "#calcular E(X)\n",
        "esperanza=0\n",
        "for i in range(len(x)):\n",
        "  esperanza+=x[i]*p[i]"
      ],
      "metadata": {
        "id": "o045IjTpV7gE"
      },
      "execution_count": null,
      "outputs": []
    },
    {
      "cell_type": "code",
      "source": [
        "#calcular E(x2)\n",
        "esperanza_cuadrado=0\n",
        "for i in range(len(x)):\n",
        "  esperanza_cuadrado+=x[i]**2*p[i]"
      ],
      "metadata": {
        "id": "ZCNDGwTlWLMY"
      },
      "execution_count": null,
      "outputs": []
    },
    {
      "cell_type": "code",
      "source": [
        "#calcular varianza y desviacion estandar\n",
        "varianza=esperanza_cuadrado-esperanza**2\n",
        "desviacion=math.sqrt(varianza)"
      ],
      "metadata": {
        "id": "w-sdvFFIWYSY"
      },
      "execution_count": null,
      "outputs": []
    },
    {
      "cell_type": "code",
      "source": [
        "#Mostrar resultados\n",
        "print(f\"E(X)={esperanza:.2f}\")\n",
        "print(f\"E(X2)={esperanza_cuadrado:.2f}\")\n",
        "print(f\"Varianza={varianza:.2f}\")\n",
        "print(f\"Desviacion estandar={desviacion:.2f}\")"
      ],
      "metadata": {
        "colab": {
          "base_uri": "https://localhost:8080/"
        },
        "id": "Yjyh8VHQWkCG",
        "outputId": "5a75c0e0-12f3-4d76-cb47-111bc1c68ee5"
      },
      "execution_count": null,
      "outputs": [
        {
          "output_type": "stream",
          "name": "stdout",
          "text": [
            "E(X)=7.90\n",
            "E(X2)=64.10\n",
            "Varianza=1.69\n",
            "Desviacion estandar=1.30\n"
          ]
        }
      ]
    }
  ]
}