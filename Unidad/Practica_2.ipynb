{
  "nbformat": 4,
  "nbformat_minor": 0,
  "metadata": {
    "colab": {
      "provenance": [],
      "authorship_tag": "ABX9TyO8oYPW/U4os+1pnpd6WwT+",
      "include_colab_link": true
    },
    "kernelspec": {
      "name": "python3",
      "display_name": "Python 3"
    },
    "language_info": {
      "name": "python"
    }
  },
  "cells": [
    {
      "cell_type": "markdown",
      "metadata": {
        "id": "view-in-github",
        "colab_type": "text"
      },
      "source": [
        "<a href=\"https://colab.research.google.com/github/Renata885/probabilidad/blob/main/Unidad/Practica_2.ipynb\" target=\"_parent\"><img src=\"https://colab.research.google.com/assets/colab-badge.svg\" alt=\"Open In Colab\"/></a>"
      ]
    },
    {
      "cell_type": "markdown",
      "source": [
        "**Probabilidad y estadistica**\n",
        "\n",
        "**Grupo 2 Y**\n",
        "\n",
        "**Unidad 3**\n",
        "\n",
        "**Programa 2  Valor esperado**\n",
        "\n",
        "Docente:Jose Gabriel Rodriquez Rivas\n",
        "\n",
        "Alumna: Karla Renata Ortega Miranda"
      ],
      "metadata": {
        "id": "oFTFrJ0iMKB6"
      }
    },
    {
      "cell_type": "code",
      "execution_count": null,
      "metadata": {
        "id": "Wl2GbUMyKaPa"
      },
      "outputs": [],
      "source": [
        "x=[5,6,7,8,9,10]#valores posibles de la variable aleatoria\n",
        "p=[0.05,0.10,0.20,0.30,0.25,0.10]#Probabilidad correspondientes"
      ]
    },
    {
      "cell_type": "code",
      "source": [
        "#Iniciar una variable para acumular la suma\n",
        "valor_esperado=0"
      ],
      "metadata": {
        "id": "sm0rdNehLajH"
      },
      "execution_count": null,
      "outputs": []
    },
    {
      "cell_type": "code",
      "source": [
        "#Recorre sus valores y sus probabilidades\n",
        "for i in range(len(x)):\n",
        "    xi=x[i]#valor de la variable aleatoria\n",
        "    pi=p[i]#probabilidad de ese valor\n",
        "    producto = xi * pi #multiplicar valor por su probabilidad\n",
        "    valor_esperado += producto #sumar al acumulador\n",
        "    #mostrar cada paso\n",
        "    print (f\"x = {xi}, p= {pi}, x*p = {producto:.2f}\")\n",
        "#mostrar resultado final\n",
        "print (f\"\\nValor esperado (Esperanza): {valor_esperado: .2f}\")"
      ],
      "metadata": {
        "colab": {
          "base_uri": "https://localhost:8080/"
        },
        "id": "pFWJHYV3LgsU",
        "outputId": "3d3e6a12-09d9-47e1-d84e-a36a7319b394"
      },
      "execution_count": null,
      "outputs": [
        {
          "output_type": "stream",
          "name": "stdout",
          "text": [
            "x = 5, p= 0.05, x*p = 0.25\n",
            "x = 6, p= 0.1, x*p = 0.60\n",
            "x = 7, p= 0.2, x*p = 1.40\n",
            "x = 8, p= 0.3, x*p = 2.40\n",
            "x = 9, p= 0.25, x*p = 2.25\n",
            "x = 10, p= 0.1, x*p = 1.00\n",
            "\n",
            "Valor esperado (Esperanza):  7.90\n"
          ]
        }
      ]
    }
  ]
}