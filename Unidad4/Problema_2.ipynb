{
  "nbformat": 4,
  "nbformat_minor": 0,
  "metadata": {
    "colab": {
      "provenance": [],
      "authorship_tag": "ABX9TyMQeG5WUrncFFLnTJ34Sxgp",
      "include_colab_link": true
    },
    "kernelspec": {
      "name": "python3",
      "display_name": "Python 3"
    },
    "language_info": {
      "name": "python"
    }
  },
  "cells": [
    {
      "cell_type": "markdown",
      "metadata": {
        "id": "view-in-github",
        "colab_type": "text"
      },
      "source": [
        "<a href=\"https://colab.research.google.com/github/Renata885/probabilidad/blob/main/Unidad4/Problema_2.ipynb\" target=\"_parent\"><img src=\"https://colab.research.google.com/assets/colab-badge.svg\" alt=\"Open In Colab\"/></a>"
      ]
    },
    {
      "cell_type": "markdown",
      "source": [
        "**Probabilidad y estadistica**\n",
        "\n",
        "**Grupo 2 Y**\n",
        "\n",
        "**Unidad 4**\n",
        "\n",
        "**Programa Problema 2**\n",
        "\n",
        "Docente:Jose Gabriel Rodriquez Rivas\n",
        "\n",
        "Alumna: Karla Renata Ortega Miranda"
      ],
      "metadata": {
        "id": "H96nIeURDdwY"
      }
    },
    {
      "cell_type": "markdown",
      "source": [
        "Es binomial porque hay muchos ensayos independientes con solo dos resultados posibles, defectuoso o no."
      ],
      "metadata": {
        "id": "oybsR9R_Du2Z"
      }
    },
    {
      "cell_type": "code",
      "execution_count": 12,
      "metadata": {
        "colab": {
          "base_uri": "https://localhost:8080/"
        },
        "id": "IWIoL54E_Bb6",
        "outputId": "8feb4b50-ea84-4720-a64a-323c3d4efb86"
      },
      "outputs": [
        {
          "output_type": "stream",
          "name": "stdout",
          "text": [
            "La probabilidad de que ninguno sea defectuoso es: 0.3676954247709639\n"
          ]
        }
      ],
      "source": [
        "from scipy.stats import binom\n",
        "probabilidad=0.001\n",
        "motores=1000\n",
        "x=0\n",
        "prob_ningun_defecto = binom.pmf(x,motores,probabilidad)\n",
        "print(\"La probabilidad de que ninguno sea defectuoso es:\",prob_ningun_defecto)"
      ]
    },
    {
      "cell_type": "code",
      "source": [
        "from scipy.stats import binom\n",
        "probabilidad=0.001\n",
        "motores=1000\n",
        "x=3\n",
        "prob_ningun_defecto = binom.pmf(x,motores,probabilidad)\n",
        "print(\"La probabilidad de que tres sean defectuoso es:\",prob_ningun_defecto)"
      ],
      "metadata": {
        "colab": {
          "base_uri": "https://localhost:8080/"
        },
        "id": "5nBV-Eu1CqwJ",
        "outputId": "4e6dc10f-d00b-4fb7-995b-c10057a76e1e"
      },
      "execution_count": 13,
      "outputs": [
        {
          "output_type": "stream",
          "name": "stdout",
          "text": [
            "La probabilidad de que tres sean defectuoso es: 0.061282509389840666\n"
          ]
        }
      ]
    },
    {
      "cell_type": "code",
      "source": [
        "from scipy.stats import binom\n",
        "probabilidad=0.001\n",
        "motores=1000\n",
        "x=4\n",
        "prob_ningun_defecto = binom.pmf(x,motores,probabilidad)\n",
        "print(\"La probabilidad de que cuatro sean defectuoso es:\",prob_ningun_defecto)"
      ],
      "metadata": {
        "colab": {
          "base_uri": "https://localhost:8080/"
        },
        "id": "tIgVtlaUDJ0t",
        "outputId": "b7b51641-5eae-47c3-8788-083556900613"
      },
      "execution_count": 14,
      "outputs": [
        {
          "output_type": "stream",
          "name": "stdout",
          "text": [
            "La probabilidad de que cuatro sean defectuoso es: 0.015289955420838651\n"
          ]
        }
      ]
    }
  ]
}